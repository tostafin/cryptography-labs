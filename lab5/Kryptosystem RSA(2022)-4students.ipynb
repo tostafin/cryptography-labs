{
 "cells": [
  {
   "cell_type": "markdown",
   "metadata": {},
   "source": [
    "# Kryptografia asymetryczna - kryptosystem RSA \n",
    "Kryptografia asymetryczna charakteryzuje się wykorzystaniem **pary kluczy publiczny-prywatny** (stąd nazwa kryptografia z kluczem publicznym). Klucz publiczny może być swobodnie dystrybuowany otwartym kanałem i służy do szyfrowania (a także do weryfikowania podpisu). Klucz prywatny musi być utrzymywany w tajności i służy do deszyfrowania (lub tworzenia podpisu). \n",
    "\n",
    "Chronologicznie pierwszym kryptosystemem asymetrycznym był protokół wymiany kluczu Diffiego-Hellmana-Merkla. Służy on bezpiecznej wymiany danych, które mogą być wykorzystane jako tajne klucze kryptograficzne lub mogą być użyte do wyprodukowania kluczy. \n",
    "\n",
    "Najbardziej znanym kryptosystem z kluczem publicznym jest RSA (nazwa pochodzi od wynalazów: Rivest, Shamir i Adlemann). RSA umożliwia szyfrowanie danych jak również realizację podpisu cyfrowego. Bezpieczeństwo RSA opiera się na obliczeniowej trudności rozwiązania **problemu faktoryzacji liczb całkowitych złożonych**. "
   ]
  },
  {
   "cell_type": "markdown",
   "metadata": {},
   "source": [
    "### Algorytm szybkiego potęgowania \n",
    "1. Zwykłe potęgowanie $n^{exp}$: $exp$ mnożeń \n",
    "2. Algorytm szybkiego potęgowania: część mnożeń zastępujemy podnoszeniem do kwadratu (_squaring_).\n",
    "    __Skąd mamy wiedzieć kiedy mnożyć, a kiedy potęgować?__"
   ]
  },
  {
   "cell_type": "code",
   "execution_count": 6,
   "metadata": {},
   "outputs": [
    {
     "name": "stdout",
     "output_type": "stream",
     "text": [
      "52880\n",
      "52880\n",
      "52880\n"
     ]
    }
   ],
   "source": [
    "def fastModularExponentation(b, exp, m):\n",
    "    res = 1\n",
    "    while exp > 1:\n",
    "        if exp & 1:\n",
    "            res = (res * b) % m\n",
    "        b = b ** 2 % m\n",
    "        exp >>= 1\n",
    "    return (b * res) % m\n",
    "\n",
    "print(50**650_000 % 65537)  # this one is definitely slower than the two functions below\n",
    "print(fastModularExponentation(50, 650_000, 65537))\n",
    "print(pow(50, 650_000, 65537))"
   ]
  },
  {
   "cell_type": "markdown",
   "metadata": {},
   "source": [
    "### Skąd wziąć dużą liczbę pierwszą? \n",
    "**Wylosować i sprawdzić czy jest pierwsza!**\n",
    "\n",
    "Test probabilistyczny, np. Rabina-Millera. "
   ]
  },
  {
   "cell_type": "code",
   "execution_count": 38,
   "metadata": {},
   "outputs": [
    {
     "name": "stdout",
     "output_type": "stream",
     "text": [
      "65519\n",
      "65521\n",
      "65537\n",
      "65539\n",
      "65543\n",
      "65551\n",
      "65557\n",
      "65563\n",
      "65579\n",
      "65581\n",
      "65587\n",
      "65599\n",
      "False\n"
     ]
    }
   ],
   "source": [
    "import random\n",
    "\"\"\"Test Rabina-Millera lub test AKS (deterministyczny, ale wolniejszy)\n",
    "\"\"\"\n",
    "def isPrime3(n, k):  # k - liczba losowań\n",
    "    if n < 2: return False\n",
    "    if n < 4: return True\n",
    "    if n % 2 == 0: return False    # speedup\n",
    "\n",
    "    s = 0\n",
    "    d = n-1\n",
    "    while d % 2 == 0:\n",
    "        s += 1\n",
    "        d //= 2\n",
    "\n",
    "    for _ in range(k):\n",
    "        a = random.randrange(2, n - 1)\n",
    "        x = fastModularExponentation(a, d, n)\n",
    "        if x == 1 or x == n - 1:\n",
    "            continue\n",
    "        for _ in range(s - 1):\n",
    "            x = fastModularExponentation(x, 2, n)\n",
    "            if x == n - 1:\n",
    "                break\n",
    "        else:\n",
    "            return False\n",
    "\n",
    "    return True    \n",
    "\n",
    "for i in range(65500,65600):            \n",
    "    if(isPrime3(i,10)): print(i)\n",
    "\n",
    "print(isPrime3(63139, 1))"
   ]
  },
  {
   "cell_type": "markdown",
   "metadata": {},
   "source": [
    "### Obliczanie elementu odwrotnego w ciele skończonym\n",
    "1. Algorytm Euklidesa - znajdowanie największego wspólnego dzielnika\n",
    "2. Rozszerzony Algorytm Euklidesa - obliczanie elementu odwrotnego względem mnożenia w ciele skończonym\n",
    "\n",
    "Przeanalizuj poniższy kod."
   ]
  },
  {
   "cell_type": "code",
   "execution_count": 39,
   "metadata": {},
   "outputs": [
    {
     "name": "stdout",
     "output_type": "stream",
     "text": [
      "gcd( 154 , 801 ) =  1 5 -26\n",
      "Element odwrotny do  154 modulo 801 : 775\n",
      "775\n"
     ]
    }
   ],
   "source": [
    "\n",
    "## Funkcje pomocnicze \n",
    "def gcd(a, b):\n",
    "    # GCD - Greatest Common Divisor, Największy wspólny dzielnik \n",
    "    while a != 0:\n",
    "        a, b = b % a, a\n",
    "    return b\n",
    "\n",
    "# wersja rekurencyjna\n",
    "def gcdExtendedRecursion(a, b):  \n",
    "    # przypadek trywialny\n",
    "    if a == 0 :   \n",
    "        return b,1,0             \n",
    "    gcd,x1,y1 = gcdExtendedRecursion(b%a, a) #rekurencyjny Euklides      \n",
    "   \n",
    "    # sumowanie powrotne  \n",
    "    y = x1 - (b//a) * y1  \n",
    "    x = y1  \n",
    "    \n",
    "    return gcd,x,y \n",
    "\n",
    "#wersja iteracyjna\n",
    "def findModInverse(a, m):\n",
    "    # Zwraca liczbę x odwrotną do a ciele skończonym modulo m \n",
    "    # czyli (a*x) % m =1 \n",
    "\n",
    "    if gcd(a, m) != 1:\n",
    "        return None #a i m muszą być względnie pierwsze aby istniał element odwrotny \n",
    "\n",
    "    # Rozszerzony algorytm Euklidesa \n",
    "    u1, u2, u3 = 1, 0, a\n",
    "    v1, v2, v3 = 0, 1, m\n",
    "    while v3 != 0:\n",
    "        q = u3 // v3 # // operator dzielenie całkowitoliczbowego \n",
    "        v1, v2, v3, u1, u2, u3 = (u1 - q * v1), (u2 - q * v2), (u3 - q * v3), v1, v2, v3\n",
    "    return u1 % m\n",
    "\n",
    "\n",
    "a, b = 154,801\n",
    "g, x, y = gcdExtendedRecursion(a, b)  \n",
    "print(\"gcd(\", a , \",\" , b, \") = \", g, x, y)\n",
    "print(\"Element odwrotny do \", a, \"modulo\", b, \":\", y%b)\n",
    "\n",
    "print(findModInverse(154,801))"
   ]
  },
  {
   "cell_type": "markdown",
   "metadata": {},
   "source": [
    "## Generowanie kluczy w kryptosystemie RSA\n",
    "Potrzebujemy dwóch liczb pierwszych o naprawdę dużych rozmiarach - 2048 bitów obecnie uważa się niezbyt bezpieczny wybór. 4096 bitów jest z kolei wielkością nieco kłopotliwą w użytkowaniu.\n",
    "### Zadanie\n",
    "1. Napisz funkcję generującą liczbę pierwszą o określonej długości w bitach. "
   ]
  },
  {
   "cell_type": "code",
   "execution_count": 44,
   "metadata": {},
   "outputs": [
    {
     "name": "stdout",
     "output_type": "stream",
     "text": [
      "154056922194506256889562374941921945990653086025334973334905933141715335828485197118140402852578486927931979038742864141610654638867586593007688575749460060224903841360162936385993660069208046408460333222841764674430723986522110451584144361078036599687695849248795542499209241852431648087144155278640210000911\n"
     ]
    }
   ],
   "source": [
    "#napisz funkcję generującą liczbę pierwszą \n",
    "def generatePrime(keysize):\n",
    "    #napisz swój kod tutaj\n",
    "    # candidate => candy => iCarly, ez\n",
    "    iCarly = random.randrange(2**(keysize - 1), 2**(keysize))\n",
    "    while not isPrime3(iCarly, 20):\n",
    "        iCarly = random.randrange(2**(keysize - 1), 2**(keysize))\n",
    "    \n",
    "    return iCarly\n",
    "    \n",
    "print(generatePrime(1024))"
   ]
  },
  {
   "cell_type": "markdown",
   "metadata": {},
   "source": [
    "## Zastanów się \n",
    "1. Znajdź zestawienie liczb silnie pseudopierwszych i sprawdź działanie (pojedynczego!) testy R-M dla takich liczb\n",
    "2. Ile testów R-M należy przeprowadzić aby osiągnąć bezpieczny poziom pewności testu"
   ]
  },
  {
   "cell_type": "markdown",
   "metadata": {},
   "source": [
    "### 2. Obliczamy składniki kluczy \n",
    "1. Wybieramy dwie duże liczby pierwsze $p$ i $q$\n",
    "2. Pierwszym składnikiem klucza jest moduł $n$ $n=p \\times q$ \n",
    "3. Poszukujemy wykładnika publicznego $e$, który jest względnie pierwszy z $(p-1)\\cdot (q-1)$ (czasami używane jest w miejscu pojęcie tocjentu lub funkcji Eulera: $\\phi(n) = \\phi(p)\\cdot \\phi(q) = (p − 1)·(q − 1)$)\n",
    "4. Poszukujemy wykładnika prywatnego $d$, które jest odwrotnością $e\\ (mod\\ (p-1)\\cdot (q-1))$: $de \\equiv 1  (mod\\ (p-1)\\cdot (q-1))$\n",
    "5. Kluczem publiczny jest para $(n, e)$, kluczem prywatnym jest para $(n, d)$."
   ]
  },
  {
   "cell_type": "markdown",
   "metadata": {},
   "source": [
    "## Zadanie \n",
    "\n",
    "1. Napisz funkcję generującą klucze RSA o ustalonym rozmiarze"
   ]
  },
  {
   "cell_type": "code",
   "execution_count": null,
   "metadata": {},
   "outputs": [],
   "source": [
    "import random, sys, os\n",
    "\n",
    "def generateKey(keySize):\n",
    "    #napisz swój kod tutaj\n",
    "    \n",
    "    return (publicKey, privateKey)\n",
    "\n",
    "pub,priv = generateKey(16)\n",
    "print(pub,priv)"
   ]
  },
  {
   "cell_type": "markdown",
   "metadata": {},
   "source": [
    "## Zadanie \n",
    "\n",
    "Napisz funkcje implementujące szyfrowanie i deszyfrowanie RSA (tzw. podręcznikowe)\n",
    "\n",
    "### Szyfrowanie RSA \n",
    "Operacja szyfrowania: $c=m^e (mod\\ n)$"
   ]
  },
  {
   "cell_type": "code",
   "execution_count": null,
   "metadata": {},
   "outputs": [],
   "source": [
    "def encrypt(message, modulus, exp):\n",
    "    # kod szyfrowania     \n",
    "  \n",
    "    return message_encrypted\n",
    "\n",
    "\n"
   ]
  },
  {
   "cell_type": "markdown",
   "metadata": {},
   "source": [
    "### Deszyfrowanie RSA \n",
    "Operacja szyfrowanie $m = c^d (mod\\ n)$"
   ]
  },
  {
   "cell_type": "code",
   "execution_count": null,
   "metadata": {},
   "outputs": [],
   "source": [
    "def decrypt(message_encrypted, modulus, exp):\n",
    "  \n",
    "    return ('').join(message_ascii)\n",
    "\n"
   ]
  },
  {
   "cell_type": "markdown",
   "metadata": {},
   "source": [
    "## Zastanów się\n",
    "1. Sprawdź działanie powyższej implementacji dla różnych wielkości klucza (podawane podczas generowania kluczy). \n",
    "2. Poszukaj informacji o trybie podręcznikowym RSA (*textbook RSA encryption*). Na czym polega? Jakie są jego wady i zalety? \n",
    "\n",
    "\n",
    "## Zadanie (dla chętnych)\n",
    "1. Zademonstruj deformowalność podręcznikowego szyfrowania RSA\n",
    "2. Zaimplementuj dopełnienie OAEP (_Optimal Assymmetric Encryption Padding_)\n"
   ]
  },
  {
   "cell_type": "code",
   "execution_count": null,
   "metadata": {},
   "outputs": [],
   "source": [
    "\n",
    "\n",
    "\n",
    "    "
   ]
  }
 ],
 "metadata": {
  "kernelspec": {
   "display_name": "Python 3 (ipykernel)",
   "language": "python",
   "name": "python3"
  },
  "language_info": {
   "codemirror_mode": {
    "name": "ipython",
    "version": 3
   },
   "file_extension": ".py",
   "mimetype": "text/x-python",
   "name": "python",
   "nbconvert_exporter": "python",
   "pygments_lexer": "ipython3",
   "version": "3.10.2"
  }
 },
 "nbformat": 4,
 "nbformat_minor": 2
}
