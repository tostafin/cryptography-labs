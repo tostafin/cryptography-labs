{
 "cells": [
  {
   "cell_type": "markdown",
   "metadata": {},
   "source": [
    "# Kryptografia asymetryczna - kryptosystem RSA \n",
    "Kryptografia asymetryczna charakteryzuje się wykorzystaniem **pary kluczy publiczny-prywatny** (stąd nazwa kryptografia z kluczem publicznym). Klucz publiczny może być swobodnie dystrybuowany otwartym kanałem i służy do szyfrowania (a także do weryfikowania podpisu). Klucz prywatny musi być utrzymywany w tajności i służy do deszyfrowania (lub tworzenia podpisu). \n",
    "\n",
    "Chronologicznie pierwszym kryptosystemem asymetrycznym był protokół wymiany kluczu Diffiego-Hellmana-Merkla. Służy on bezpiecznej wymiany danych, które mogą być wykorzystane jako tajne klucze kryptograficzne lub mogą być użyte do wyprodukowania kluczy. \n",
    "\n",
    "Najbardziej znanym kryptosystem z kluczem publicznym jest RSA (nazwa pochodzi od wynalazów: Rivest, Shamir i Adlemann). RSA umożliwia szyfrowanie danych jak również realizację podpisu cyfrowego. Bezpieczeństwo RSA opiera się na obliczeniowej trudności rozwiązania **problemu faktoryzacji liczb całkowitych złożonych**. "
   ]
  },
  {
   "cell_type": "markdown",
   "metadata": {},
   "source": [
    "### Algorytm szybkiego potęgowania \n",
    "1. Zwykłe potęgowanie $n^{exp}$: $exp$ mnożeń \n",
    "2. Algorytm szybkiego potęgowania: część mnożeń zastępujemy podnoszeniem do kwadratu (_squaring_).\n",
    "    __Skąd mamy wiedzieć kiedy mnożyć, a kiedy potęgować?__"
   ]
  },
  {
   "cell_type": "code",
   "execution_count": 7,
   "metadata": {},
   "outputs": [],
   "source": [
    "def fastModularExponentation(b, exp, m):\n",
    "    res = 1\n",
    "    while exp > 1:\n",
    "        if exp & 1:\n",
    "            res = (res * b) % m\n",
    "        b = b ** 2 % m\n",
    "        exp >>= 1\n",
    "    return (b * res) % m"
   ]
  },
  {
   "cell_type": "markdown",
   "metadata": {},
   "source": [
    "### Skąd wziąć dużą liczbę pierwszą? \n",
    "**Wylosować i sprawdzić czy jest pierwsza!**\n",
    "\n",
    "Test probabilistyczny, np. Rabina-Millera. "
   ]
  },
  {
   "cell_type": "code",
   "execution_count": 11,
   "metadata": {},
   "outputs": [
    {
     "name": "stdout",
     "output_type": "stream",
     "text": [
      "1\n"
     ]
    },
    {
     "data": {
      "text/plain": [
       "False"
      ]
     },
     "execution_count": 11,
     "metadata": {},
     "output_type": "execute_result"
    }
   ],
   "source": [
    "print(pow(5, 256, 257))\n",
    "\n",
    "\n",
    "def singleRabinMiller(a,s,d,n):\n",
    "    x = fastModularExponentation(a,d,n)\n",
    "    if (x==1): return True #pierwsza\n",
    "    if (x==n-1): return True\n",
    "    for i in range(1,s):\n",
    "        x = x**2 % n\n",
    "        if x == n-1: return True\n",
    "    return False      \n",
    "\n",
    "import random\n",
    "def isPrime(n, k):\n",
    "    if n < 2: return False\n",
    "    if n < 4: return True\n",
    "    if n % 2 == 0: return False    # speedup\n",
    "\n",
    "    s = 0\n",
    "    d = n-1\n",
    "    while d % 2 == 0:\n",
    "        s += 1\n",
    "        d //= 2\n",
    "    #tutaj napisz swój kod\n",
    "    for i in range(0,k):\n",
    "        a = random.randrange(2,n)\n",
    "        if not singleRabinMiller(a,s,d,n):\n",
    "            return False\n",
    "\n",
    "    return True    \n",
    "\n",
    "isPrime(2047,20)\n"
   ]
  },
  {
   "cell_type": "markdown",
   "metadata": {},
   "source": [
    "### Obliczanie elementu odwrotnego w ciele skończonym\n",
    "1. Algorytm Euklidesa - znajdowanie największego wspólnego dzielnika\n",
    "2. Rozszerzony Algorytm Euklidesa - obliczanie elementu odwrotnego względem mnożenia w ciele skończonym\n",
    "\n",
    "Przeanalizuj poniższy kod."
   ]
  },
  {
   "cell_type": "code",
   "execution_count": 9,
   "metadata": {},
   "outputs": [
    {
     "name": "stdout",
     "output_type": "stream",
     "text": [
      "gcd( 154 , 801 ) =  1 5 -26\n",
      "Element odwrotny do  154 modulo 801 : 775\n",
      "775\n"
     ]
    }
   ],
   "source": [
    "\n",
    "## Funkcje pomocnicze \n",
    "def gcd(a, b):\n",
    "    # GCD - Greatest Common Divisor, Największy wspólny dzielnik \n",
    "    while a != 0:\n",
    "        a, b = b % a, a\n",
    "    return b\n",
    "\n",
    "# wersja rekurencyjna\n",
    "def gcdExtendedRecursion(a, b):  \n",
    "    # przypadek trywialny\n",
    "    if a == 0 :   \n",
    "        return b,1,0             \n",
    "    gcd,x1,y1 = gcdExtendedRecursion(b%a, a) #rekurencyjny Euklides      \n",
    "   \n",
    "    # sumowanie powrotne  \n",
    "    y = x1 - (b//a) * y1  \n",
    "    x = y1  \n",
    "    \n",
    "    return gcd,x,y \n",
    "\n",
    "#wersja iteracyjna\n",
    "def findModInverse(a, m):\n",
    "    # Zwraca liczbę x odwrotną do a ciele skończonym modulo m \n",
    "    # czyli (a*x) % m =1 \n",
    "\n",
    "    if gcd(a, m) != 1:\n",
    "        return None #a i m muszą być względnie pierwsze aby istniał element odwrotny \n",
    "\n",
    "    # Rozszerzony algorytm Euklidesa \n",
    "    u1, u2, u3 = 1, 0, a\n",
    "    v1, v2, v3 = 0, 1, m\n",
    "    while v3 != 0:\n",
    "        q = u3 // v3 # // operator dzielenie całkowitoliczbowego \n",
    "        v1, v2, v3, u1, u2, u3 = (u1 - q * v1), (u2 - q * v2), (u3 - q * v3), v1, v2, v3\n",
    "    return u1 % m\n",
    "\n",
    "\n",
    "a, b = 154,801\n",
    "g, x, y = gcdExtendedRecursion(a, b)  \n",
    "print(\"gcd(\", a , \",\" , b, \") = \", g, x, y)\n",
    "print(\"Element odwrotny do \", a, \"modulo\", b, \":\", y%b)\n",
    "\n",
    "print(findModInverse(154,801))"
   ]
  },
  {
   "cell_type": "markdown",
   "metadata": {},
   "source": [
    "## Generowanie kluczy w kryptosystemie RSA\n",
    "Potrzebujemy dwóch liczb pierwszych o naprawdę dużych rozmiarach - 2048 bitów obecnie uważa się niezbyt bezpieczny wybór. 4096 bitów jest z kolei wielkością nieco kłopotliwą w użytkowaniu.\n",
    "### Zadanie\n",
    "1. Napisz funkcję generującą liczbę pierwszą o określonej długości w bitach. "
   ]
  },
  {
   "cell_type": "code",
   "execution_count": 14,
   "metadata": {},
   "outputs": [
    {
     "name": "stdout",
     "output_type": "stream",
     "text": [
      "37117\n"
     ]
    }
   ],
   "source": [
    "#napisz funkcję generującą liczbę pierwszą \n",
    "def generatePrime(keysize):\n",
    "    #napisz swój kod tutaj\n",
    "    num = random.randrange(2**(keysize-1), 2**keysize)\n",
    "    while not isPrime(num, 10):\n",
    "        num = random.randrange(2**(keysize-1), 2**keysize)\n",
    "    return num\n",
    "\n",
    "print(generatePrime(16))"
   ]
  },
  {
   "cell_type": "markdown",
   "metadata": {},
   "source": [
    "## Zastanów się \n",
    "1. Znajdź zestawienie liczb silnie pseudopierwszych i sprawdź działanie (pojedynczego!) testy R-M dla takich liczb\n",
    "2. Ile testów R-M należy przeprowadzić aby osiągnąć bezpieczny poziom pewności testu"
   ]
  },
  {
   "cell_type": "markdown",
   "metadata": {},
   "source": [
    "### 2. Obliczamy składniki kluczy \n",
    "1. Wybieramy dwie duże liczby pierwsze $p$ i $q$\n",
    "2. Pierwszym składnikiem klucza jest moduł $n$ $n=p \\times q$ \n",
    "3. Poszukujemy wykładnika publicznego $e$, który jest względnie pierwszy z $(p-1)\\cdot (q-1)$ (czasami używane jest w miejscu pojęcie tocjentu lub funkcji Eulera: $\\phi(n) = \\phi(p)\\cdot \\phi(q) = (p − 1)·(q − 1)$)\n",
    "4. Poszukujemy wykładnika prywatnego $d$, które jest odwrotnością $e\\ (mod\\ (p-1)\\cdot (q-1))$: $de \\equiv 1  (mod\\ (p-1)\\cdot (q-1))$\n",
    "5. Kluczem publiczny jest para $(n, e)$, kluczem prywatnym jest para $(n, d)$."
   ]
  },
  {
   "cell_type": "markdown",
   "metadata": {},
   "source": [
    "## Zadanie \n",
    "\n",
    "1. Napisz funkcję generującą klucze RSA o ustalonym rozmiarze"
   ]
  },
  {
   "cell_type": "code",
   "execution_count": 30,
   "metadata": {},
   "outputs": [
    {
     "name": "stdout",
     "output_type": "stream",
     "text": [
      "(2441175349, 65537) (2441175349, 704234753)\n"
     ]
    }
   ],
   "source": [
    "import random, sys, os\n",
    "\n",
    "def generateKey(keySize):\n",
    "    #napisz swój kod tutaj\n",
    "    p = generatePrime(keySize)\n",
    "    q = generatePrime(keySize)\n",
    "    n = p*q\n",
    "    e = 65537\n",
    "    d = findModInverse(e, (p-1)*(q-1))\n",
    "    publicKey = (n,e)\n",
    "    privateKey = (n,d)\n",
    "    return (publicKey, privateKey)\n",
    "\n",
    "pub,priv = generateKey(16)\n",
    "print(pub,priv)"
   ]
  },
  {
   "cell_type": "markdown",
   "metadata": {},
   "source": [
    "## Zadanie \n",
    "\n",
    "Napisz funkcje implementujące szyfrowanie i deszyfrowanie RSA (tzw. podręcznikowe)\n",
    "\n",
    "### Szyfrowanie RSA \n",
    "Operacja szyfrowania: $c=m^e (mod\\ n)$"
   ]
  },
  {
   "cell_type": "code",
   "execution_count": 35,
   "metadata": {},
   "outputs": [
    {
     "name": "stdout",
     "output_type": "stream",
     "text": [
      "[275059442, 2235668627, 1049369374, 1049369374, 29800967, 512196223, 1921705502, 29800967, 791575244, 1049369374, 1180047668, 614278151]\n"
     ]
    },
    {
     "data": {
      "text/plain": [
       "1"
      ]
     },
     "execution_count": 35,
     "metadata": {},
     "output_type": "execute_result"
    }
   ],
   "source": [
    "def encrypt(message, modulus, exp):\n",
    "    # kod szyfrowania     \n",
    "    message_ascii=[]\n",
    "    for i in message:\n",
    "        message_ascii.append(ord(i))\n",
    "    message_encrypted = []\n",
    "    for m in message_ascii: \n",
    "        message_encrypted.append(pow(m,exp,modulus))  \n",
    "    return message_encrypted\n",
    "\n",
    "ciphertext = encrypt('Hello world!', pub[0],pub[1])\n",
    "print(ciphertext)\n",
    "1"
   ]
  },
  {
   "cell_type": "markdown",
   "metadata": {},
   "source": [
    "### Deszyfrowanie RSA \n",
    "Operacja szyfrowanie $m = c^d (mod\\ n)$"
   ]
  },
  {
   "cell_type": "code",
   "execution_count": 36,
   "metadata": {},
   "outputs": [
    {
     "name": "stdout",
     "output_type": "stream",
     "text": [
      "Hello world!\n"
     ]
    }
   ],
   "source": [
    "def decrypt(message_encrypted, modulus, exp):\n",
    "    message_decrypted = []\n",
    "    message_ascii=[]\n",
    "    for c in message_encrypted:\n",
    "        message_decrypted.append(pow(c,exp,modulus))\n",
    "\n",
    "    for m in message_decrypted: \n",
    "        message_ascii.append(chr(m)) \n",
    "  \n",
    "    return ('').join(message_ascii)\n",
    "\n",
    "print(decrypt(ciphertext, priv[0],priv[1]))"
   ]
  }
 ],
 "metadata": {
  "kernelspec": {
   "display_name": "Python 3 (ipykernel)",
   "language": "python",
   "name": "python3"
  },
  "language_info": {
   "codemirror_mode": {
    "name": "ipython",
    "version": 3
   },
   "file_extension": ".py",
   "mimetype": "text/x-python",
   "name": "python",
   "nbconvert_exporter": "python",
   "pygments_lexer": "ipython3",
   "version": "3.10.6"
  }
 },
 "nbformat": 4,
 "nbformat_minor": 2
}
